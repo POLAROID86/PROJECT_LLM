{
 "cells": [
  {
   "cell_type": "code",
   "execution_count": 1,
   "metadata": {},
   "outputs": [
    {
     "name": "stdout",
     "output_type": "stream",
     "text": [
      "Requirement already satisfied: faiss-cpu in c:\\python372x32\\lib\\site-packages (1.7.4)\n",
      "Note: you may need to restart the kernel to use updated packages.\n"
     ]
    },
    {
     "name": "stderr",
     "output_type": "stream",
     "text": [
      "\n",
      "[notice] A new release of pip is available: 23.3.1 -> 23.3.2\n",
      "[notice] To update, run: python.exe -m pip install --upgrade pip\n"
     ]
    }
   ],
   "source": [
    "pip install faiss-cpu"
   ]
  },
  {
   "cell_type": "code",
   "execution_count": 2,
   "metadata": {},
   "outputs": [
    {
     "name": "stdout",
     "output_type": "stream",
     "text": [
      "Collecting sentence-transformers\n",
      "  Downloading sentence-transformers-2.2.2.tar.gz (85 kB)\n",
      "     ---------------------------------------- 0.0/86.0 kB ? eta -:--:--\n",
      "     ---------------------------------------- 0.0/86.0 kB ? eta -:--:--\n",
      "     ---------------------------------------- 0.0/86.0 kB ? eta -:--:--\n",
      "     ---------------------------------------- 0.0/86.0 kB ? eta -:--:--\n",
      "     ---- ----------------------------------- 10.2/86.0 kB ? eta -:--:--\n",
      "     ---- ----------------------------------- 10.2/86.0 kB ? eta -:--:--\n",
      "     ---- ----------------------------------- 10.2/86.0 kB ? eta -:--:--\n",
      "     ---- ----------------------------------- 10.2/86.0 kB ? eta -:--:--\n",
      "     ------------- ------------------------ 30.7/86.0 kB 119.1 kB/s eta 0:00:01\n",
      "     ------------- ------------------------ 30.7/86.0 kB 119.1 kB/s eta 0:00:01\n",
      "     ------------- ------------------------ 30.7/86.0 kB 119.1 kB/s eta 0:00:01\n",
      "     ------------------ -------------------- 41.0/86.0 kB 93.4 kB/s eta 0:00:01\n",
      "     ------------------ -------------------- 41.0/86.0 kB 93.4 kB/s eta 0:00:01\n",
      "     ------------------ -------------------- 41.0/86.0 kB 93.4 kB/s eta 0:00:01\n",
      "     ------------------ -------------------- 41.0/86.0 kB 93.4 kB/s eta 0:00:01\n",
      "     ------------------ -------------------- 41.0/86.0 kB 93.4 kB/s eta 0:00:01\n",
      "     ------------------ -------------------- 41.0/86.0 kB 93.4 kB/s eta 0:00:01\n",
      "     ------------------ -------------------- 41.0/86.0 kB 93.4 kB/s eta 0:00:01\n",
      "     ------------------ -------------------- 41.0/86.0 kB 93.4 kB/s eta 0:00:01\n",
      "     ------------------ -------------------- 41.0/86.0 kB 93.4 kB/s eta 0:00:01\n",
      "     --------------------------- ----------- 61.4/86.0 kB 69.7 kB/s eta 0:00:01\n",
      "     --------------------------- ----------- 61.4/86.0 kB 69.7 kB/s eta 0:00:01\n",
      "     ------------------------------------- - 81.9/86.0 kB 83.3 kB/s eta 0:00:01\n",
      "     --------------------------------------- 86.0/86.0 kB 85.0 kB/s eta 0:00:00\n",
      "  Preparing metadata (setup.py): started\n",
      "  Preparing metadata (setup.py): finished with status 'done'\n",
      "Requirement already satisfied: transformers<5.0.0,>=4.6.0 in c:\\python372x32\\lib\\site-packages (from sentence-transformers) (4.35.0)\n",
      "Requirement already satisfied: tqdm in c:\\python372x32\\lib\\site-packages (from sentence-transformers) (4.66.1)\n",
      "Requirement already satisfied: torch>=1.6.0 in c:\\python372x32\\lib\\site-packages (from sentence-transformers) (2.1.0)\n",
      "Requirement already satisfied: torchvision in c:\\python372x32\\lib\\site-packages (from sentence-transformers) (0.16.0)\n",
      "Requirement already satisfied: numpy in c:\\python372x32\\lib\\site-packages (from sentence-transformers) (1.24.3)\n",
      "Requirement already satisfied: scikit-learn in c:\\python372x32\\lib\\site-packages (from sentence-transformers) (1.3.1)\n",
      "Requirement already satisfied: scipy in c:\\python372x32\\lib\\site-packages (from sentence-transformers) (1.10.1)\n",
      "Requirement already satisfied: nltk in c:\\python372x32\\lib\\site-packages (from sentence-transformers) (3.8.1)\n",
      "Collecting sentencepiece (from sentence-transformers)\n",
      "  Downloading sentencepiece-0.1.99-cp38-cp38-win_amd64.whl (977 kB)\n",
      "     ---------------------------------------- 0.0/977.6 kB ? eta -:--:--\n",
      "     ---------------------------------------- 0.0/977.6 kB ? eta -:--:--\n",
      "     ---------------------------------------- 10.2/977.6 kB ? eta -:--:--\n",
      "     ---------------------------------------- 10.2/977.6 kB ? eta -:--:--\n",
      "     ---------------------------------------- 10.2/977.6 kB ? eta -:--:--\n",
      "     - ----------------------------------- 41.0/977.6 kB 245.8 kB/s eta 0:00:04\n",
      "     -- ---------------------------------- 61.4/977.6 kB 297.7 kB/s eta 0:00:04\n",
      "     --- --------------------------------- 81.9/977.6 kB 353.1 kB/s eta 0:00:03\n",
      "     --- --------------------------------- 92.2/977.6 kB 308.0 kB/s eta 0:00:03\n",
      "     ---- ------------------------------- 112.6/977.6 kB 327.2 kB/s eta 0:00:03\n",
      "     ---- ------------------------------- 122.9/977.6 kB 300.4 kB/s eta 0:00:03\n",
      "     ----- ------------------------------ 143.4/977.6 kB 327.9 kB/s eta 0:00:03\n",
      "     ------ ----------------------------- 163.8/977.6 kB 350.7 kB/s eta 0:00:03\n",
      "     ------- ---------------------------- 194.6/977.6 kB 357.2 kB/s eta 0:00:03\n",
      "     ------- ---------------------------- 204.8/977.6 kB 345.6 kB/s eta 0:00:03\n",
      "     -------- --------------------------- 225.3/977.6 kB 353.1 kB/s eta 0:00:03\n",
      "     --------- -------------------------- 256.0/977.6 kB 357.2 kB/s eta 0:00:03\n",
      "     ---------- ------------------------- 286.7/977.6 kB 368.6 kB/s eta 0:00:02\n",
      "     ------------ ----------------------- 327.7/977.6 kB 383.4 kB/s eta 0:00:02\n",
      "     ------------ ----------------------- 327.7/977.6 kB 383.4 kB/s eta 0:00:02\n",
      "     ------------- ---------------------- 368.6/977.6 kB 395.6 kB/s eta 0:00:02\n",
      "     -------------- --------------------- 389.1/977.6 kB 403.9 kB/s eta 0:00:02\n",
      "     -------------- --------------------- 389.1/977.6 kB 403.9 kB/s eta 0:00:02\n",
      "     --------------- -------------------- 409.6/977.6 kB 387.4 kB/s eta 0:00:02\n",
      "     --------------- -------------------- 419.8/977.6 kB 369.3 kB/s eta 0:00:02\n",
      "     ---------------- ------------------- 440.3/977.6 kB 376.9 kB/s eta 0:00:02\n",
      "     ---------------- ------------------- 440.3/977.6 kB 376.9 kB/s eta 0:00:02\n",
      "     ---------------- ------------------- 450.6/977.6 kB 366.0 kB/s eta 0:00:02\n",
      "     ----------------- ------------------ 471.0/977.6 kB 368.6 kB/s eta 0:00:02\n",
      "     ------------------ ----------------- 501.8/977.6 kB 365.7 kB/s eta 0:00:02\n",
      "     ------------------ ----------------- 501.8/977.6 kB 365.7 kB/s eta 0:00:02\n",
      "     ------------------- ---------------- 522.2/977.6 kB 364.2 kB/s eta 0:00:02\n",
      "     ------------------- ---------------- 532.5/977.6 kB 359.4 kB/s eta 0:00:02\n",
      "     ------------------- ---------------- 532.5/977.6 kB 359.4 kB/s eta 0:00:02\n",
      "     -------------------- --------------- 553.0/977.6 kB 354.5 kB/s eta 0:00:02\n",
      "     --------------------- -------------- 583.7/977.6 kB 356.4 kB/s eta 0:00:02\n",
      "     --------------------- -------------- 593.9/977.6 kB 355.7 kB/s eta 0:00:02\n",
      "     ---------------------- ------------- 614.4/977.6 kB 357.9 kB/s eta 0:00:02\n",
      "     ----------------------- ------------ 645.1/977.6 kB 359.5 kB/s eta 0:00:01\n",
      "     ----------------------- ------------ 645.1/977.6 kB 359.5 kB/s eta 0:00:01\n",
      "     ------------------------ ----------- 675.8/977.6 kB 361.0 kB/s eta 0:00:01\n",
      "     ------------------------- ---------- 696.3/977.6 kB 362.8 kB/s eta 0:00:01\n",
      "     -------------------------- --------- 706.6/977.6 kB 359.3 kB/s eta 0:00:01\n",
      "     --------------------------- -------- 747.5/977.6 kB 368.6 kB/s eta 0:00:01\n",
      "     ---------------------------- ------- 778.2/977.6 kB 372.3 kB/s eta 0:00:01\n",
      "     ---------------------------- ------- 778.2/977.6 kB 372.3 kB/s eta 0:00:01\n",
      "     ----------------------------- ------ 809.0/977.6 kB 365.0 kB/s eta 0:00:01\n",
      "     ------------------------------ ----- 829.4/977.6 kB 366.7 kB/s eta 0:00:01\n",
      "     ------------------------------ ----- 839.7/977.6 kB 361.1 kB/s eta 0:00:01\n",
      "     ------------------------------ ----- 839.7/977.6 kB 361.1 kB/s eta 0:00:01\n",
      "     ------------------------------ ----- 839.7/977.6 kB 361.1 kB/s eta 0:00:01\n",
      "     ------------------------------- ---- 860.2/977.6 kB 353.2 kB/s eta 0:00:01\n",
      "     ------------------------------- ---- 860.2/977.6 kB 353.2 kB/s eta 0:00:01\n",
      "     -------------------------------- --- 870.4/977.6 kB 346.3 kB/s eta 0:00:01\n",
      "     -------------------------------- --- 870.4/977.6 kB 346.3 kB/s eta 0:00:01\n",
      "     -------------------------------- --- 890.9/977.6 kB 341.6 kB/s eta 0:00:01\n",
      "     --------------------------------- -- 911.4/977.6 kB 341.2 kB/s eta 0:00:01\n",
      "     --------------------------------- -- 911.4/977.6 kB 341.2 kB/s eta 0:00:01\n",
      "     --------------------------------- -- 921.6/977.6 kB 335.2 kB/s eta 0:00:01\n",
      "     ---------------------------------- - 942.1/977.6 kB 333.2 kB/s eta 0:00:01\n",
      "     -----------------------------------  952.3/977.6 kB 331.3 kB/s eta 0:00:01\n",
      "     -----------------------------------  952.3/977.6 kB 331.3 kB/s eta 0:00:01\n",
      "     ------------------------------------ 977.6/977.6 kB 331.1 kB/s eta 0:00:00\n",
      "Requirement already satisfied: huggingface-hub>=0.4.0 in c:\\python372x32\\lib\\site-packages (from sentence-transformers) (0.17.3)\n",
      "Requirement already satisfied: filelock in c:\\users\\sumit\\appdata\\roaming\\python\\python38\\site-packages (from huggingface-hub>=0.4.0->sentence-transformers) (3.12.4)\n",
      "Requirement already satisfied: fsspec in c:\\python372x32\\lib\\site-packages (from huggingface-hub>=0.4.0->sentence-transformers) (2023.10.0)\n",
      "Requirement already satisfied: requests in c:\\python372x32\\lib\\site-packages (from huggingface-hub>=0.4.0->sentence-transformers) (2.31.0)\n",
      "Requirement already satisfied: pyyaml>=5.1 in c:\\python372x32\\lib\\site-packages (from huggingface-hub>=0.4.0->sentence-transformers) (6.0.1)\n",
      "Requirement already satisfied: typing-extensions>=3.7.4.3 in c:\\python372x32\\lib\\site-packages (from huggingface-hub>=0.4.0->sentence-transformers) (4.8.0)\n",
      "Requirement already satisfied: packaging>=20.9 in c:\\python372x32\\lib\\site-packages (from huggingface-hub>=0.4.0->sentence-transformers) (23.2)\n",
      "Requirement already satisfied: sympy in c:\\python372x32\\lib\\site-packages (from torch>=1.6.0->sentence-transformers) (1.12)\n",
      "Requirement already satisfied: networkx in c:\\python372x32\\lib\\site-packages (from torch>=1.6.0->sentence-transformers) (3.1)\n",
      "Requirement already satisfied: jinja2 in c:\\python372x32\\lib\\site-packages (from torch>=1.6.0->sentence-transformers) (3.1.2)\n",
      "Requirement already satisfied: colorama in c:\\users\\sumit\\appdata\\roaming\\python\\python38\\site-packages (from tqdm->sentence-transformers) (0.4.6)\n",
      "Requirement already satisfied: regex!=2019.12.17 in c:\\python372x32\\lib\\site-packages (from transformers<5.0.0,>=4.6.0->sentence-transformers) (2023.10.3)\n",
      "Requirement already satisfied: tokenizers<0.15,>=0.14 in c:\\python372x32\\lib\\site-packages (from transformers<5.0.0,>=4.6.0->sentence-transformers) (0.14.1)\n",
      "Requirement already satisfied: safetensors>=0.3.1 in c:\\python372x32\\lib\\site-packages (from transformers<5.0.0,>=4.6.0->sentence-transformers) (0.4.0)\n",
      "Requirement already satisfied: click in c:\\python372x32\\lib\\site-packages (from nltk->sentence-transformers) (8.1.7)\n",
      "Requirement already satisfied: joblib in c:\\python372x32\\lib\\site-packages (from nltk->sentence-transformers) (1.3.2)\n",
      "Requirement already satisfied: threadpoolctl>=2.0.0 in c:\\python372x32\\lib\\site-packages (from scikit-learn->sentence-transformers) (3.2.0)\n",
      "Requirement already satisfied: pillow!=8.3.*,>=5.3.0 in c:\\python372x32\\lib\\site-packages (from torchvision->sentence-transformers) (10.0.1)\n",
      "Requirement already satisfied: MarkupSafe>=2.0 in c:\\python372x32\\lib\\site-packages (from jinja2->torch>=1.6.0->sentence-transformers) (2.1.3)\n",
      "Requirement already satisfied: charset-normalizer<4,>=2 in c:\\python372x32\\lib\\site-packages (from requests->huggingface-hub>=0.4.0->sentence-transformers) (3.3.0)\n",
      "Requirement already satisfied: idna<4,>=2.5 in c:\\python372x32\\lib\\site-packages (from requests->huggingface-hub>=0.4.0->sentence-transformers) (3.4)\n",
      "Requirement already satisfied: urllib3<3,>=1.21.1 in c:\\python372x32\\lib\\site-packages (from requests->huggingface-hub>=0.4.0->sentence-transformers) (2.0.6)\n",
      "Requirement already satisfied: certifi>=2017.4.17 in c:\\users\\sumit\\appdata\\roaming\\python\\python38\\site-packages (from requests->huggingface-hub>=0.4.0->sentence-transformers) (2023.7.22)\n",
      "Requirement already satisfied: mpmath>=0.19 in c:\\python372x32\\lib\\site-packages (from sympy->torch>=1.6.0->sentence-transformers) (1.3.0)\n",
      "Building wheels for collected packages: sentence-transformers\n",
      "  Building wheel for sentence-transformers (setup.py): started\n",
      "  Building wheel for sentence-transformers (setup.py): finished with status 'done'\n",
      "  Created wheel for sentence-transformers: filename=sentence_transformers-2.2.2-py3-none-any.whl size=125953 sha256=33151caf2d4a57ee2bdc01ba9d97578e79c9370e457972b564b6a83d5536d977\n",
      "  Stored in directory: c:\\users\\sumit\\appdata\\local\\pip\\cache\\wheels\\5e\\6f\\8c\\d88aec621f3f542d26fac0342bef5e693335d125f4e54aeffe\n",
      "Successfully built sentence-transformers\n",
      "Installing collected packages: sentencepiece, sentence-transformers\n",
      "Successfully installed sentence-transformers-2.2.2 sentencepiece-0.1.99\n",
      "Note: you may need to restart the kernel to use updated packages.\n"
     ]
    },
    {
     "name": "stderr",
     "output_type": "stream",
     "text": [
      "\n",
      "[notice] A new release of pip is available: 23.3.1 -> 23.3.2\n",
      "[notice] To update, run: python.exe -m pip install --upgrade pip\n"
     ]
    }
   ],
   "source": [
    "pip install sentence-transformers"
   ]
  },
  {
   "cell_type": "code",
   "execution_count": 3,
   "metadata": {},
   "outputs": [],
   "source": [
    "import pandas as pd\n",
    "pd.set_option('display.max_colwidth', 100)"
   ]
  },
  {
   "cell_type": "code",
   "execution_count": 4,
   "metadata": {},
   "outputs": [],
   "source": [
    "df= pd.read_csv(\"D:\\ML\\Emotion_classify_Data.csv\")"
   ]
  },
  {
   "cell_type": "code",
   "execution_count": 6,
   "metadata": {},
   "outputs": [
    {
     "data": {
      "text/html": [
       "<div>\n",
       "<style scoped>\n",
       "    .dataframe tbody tr th:only-of-type {\n",
       "        vertical-align: middle;\n",
       "    }\n",
       "\n",
       "    .dataframe tbody tr th {\n",
       "        vertical-align: top;\n",
       "    }\n",
       "\n",
       "    .dataframe thead th {\n",
       "        text-align: right;\n",
       "    }\n",
       "</style>\n",
       "<table border=\"1\" class=\"dataframe\">\n",
       "  <thead>\n",
       "    <tr style=\"text-align: right;\">\n",
       "      <th></th>\n",
       "      <th>Comment</th>\n",
       "      <th>Emotion</th>\n",
       "    </tr>\n",
       "  </thead>\n",
       "  <tbody>\n",
       "    <tr>\n",
       "      <th>0</th>\n",
       "      <td>i seriously hate one subject to death but now i feel reluctant to drop it</td>\n",
       "      <td>fear</td>\n",
       "    </tr>\n",
       "    <tr>\n",
       "      <th>1</th>\n",
       "      <td>im so full of life i feel appalled</td>\n",
       "      <td>anger</td>\n",
       "    </tr>\n",
       "    <tr>\n",
       "      <th>2</th>\n",
       "      <td>i sit here to write i start to dig out my feelings and i think that i am afraid to accept the po...</td>\n",
       "      <td>fear</td>\n",
       "    </tr>\n",
       "    <tr>\n",
       "      <th>3</th>\n",
       "      <td>ive been really angry with r and i feel like an idiot for trusting him in the first place</td>\n",
       "      <td>joy</td>\n",
       "    </tr>\n",
       "    <tr>\n",
       "      <th>4</th>\n",
       "      <td>i feel suspicious if there is no one outside like the rapture has happened or something</td>\n",
       "      <td>fear</td>\n",
       "    </tr>\n",
       "  </tbody>\n",
       "</table>\n",
       "</div>"
      ],
      "text/plain": [
       "                                                                                               Comment  \\\n",
       "0                            i seriously hate one subject to death but now i feel reluctant to drop it   \n",
       "1                                                                   im so full of life i feel appalled   \n",
       "2  i sit here to write i start to dig out my feelings and i think that i am afraid to accept the po...   \n",
       "3            ive been really angry with r and i feel like an idiot for trusting him in the first place   \n",
       "4              i feel suspicious if there is no one outside like the rapture has happened or something   \n",
       "\n",
       "  Emotion  \n",
       "0    fear  \n",
       "1   anger  \n",
       "2    fear  \n",
       "3     joy  \n",
       "4    fear  "
      ]
     },
     "execution_count": 6,
     "metadata": {},
     "output_type": "execute_result"
    }
   ],
   "source": [
    "df.head()"
   ]
  },
  {
   "cell_type": "code",
   "execution_count": 7,
   "metadata": {},
   "outputs": [
    {
     "data": {
      "text/plain": [
       "(5937, 2)"
      ]
     },
     "execution_count": 7,
     "metadata": {},
     "output_type": "execute_result"
    }
   ],
   "source": [
    "df.shape"
   ]
  },
  {
   "cell_type": "code",
   "execution_count": 11,
   "metadata": {},
   "outputs": [],
   "source": [
    "from sentence_transformers import SentenceTransformer"
   ]
  },
  {
   "cell_type": "code",
   "execution_count": 13,
   "metadata": {},
   "outputs": [
    {
     "data": {
      "application/vnd.jupyter.widget-view+json": {
       "model_id": "8c361861f29f44418d1f3d2ac1c55142",
       "version_major": 2,
       "version_minor": 0
      },
      "text/plain": [
       "Downloading .gitattributes:   0%|          | 0.00/690 [00:00<?, ?B/s]"
      ]
     },
     "metadata": {},
     "output_type": "display_data"
    },
    {
     "data": {
      "application/vnd.jupyter.widget-view+json": {
       "model_id": "4022237a6c4d4077963c40e3ccc970eb",
       "version_major": 2,
       "version_minor": 0
      },
      "text/plain": [
       "Downloading 1_Pooling/config.json:   0%|          | 0.00/190 [00:00<?, ?B/s]"
      ]
     },
     "metadata": {},
     "output_type": "display_data"
    },
    {
     "data": {
      "application/vnd.jupyter.widget-view+json": {
       "model_id": "2aea48f3c6c7467aad57221326385c75",
       "version_major": 2,
       "version_minor": 0
      },
      "text/plain": [
       "Downloading README.md:   0%|          | 0.00/4.03k [00:00<?, ?B/s]"
      ]
     },
     "metadata": {},
     "output_type": "display_data"
    },
    {
     "data": {
      "application/vnd.jupyter.widget-view+json": {
       "model_id": "1883677b3eea4b7397a6703d34af84cd",
       "version_major": 2,
       "version_minor": 0
      },
      "text/plain": [
       "Downloading config.json:   0%|          | 0.00/827 [00:00<?, ?B/s]"
      ]
     },
     "metadata": {},
     "output_type": "display_data"
    },
    {
     "data": {
      "application/vnd.jupyter.widget-view+json": {
       "model_id": "815c7550ca6e4b4597418ce92fbd3d51",
       "version_major": 2,
       "version_minor": 0
      },
      "text/plain": [
       "Downloading (…)ce_transformers.json:   0%|          | 0.00/122 [00:00<?, ?B/s]"
      ]
     },
     "metadata": {},
     "output_type": "display_data"
    },
    {
     "data": {
      "application/vnd.jupyter.widget-view+json": {
       "model_id": "36463fab74ce4dee9a447736e53cb27f",
       "version_major": 2,
       "version_minor": 0
      },
      "text/plain": [
       "Downloading pytorch_model.bin:   0%|          | 0.00/46.7M [00:00<?, ?B/s]"
      ]
     },
     "metadata": {},
     "output_type": "display_data"
    },
    {
     "data": {
      "application/vnd.jupyter.widget-view+json": {
       "model_id": "806ab54e8c5b4d8d80095f1b572dcff2",
       "version_major": 2,
       "version_minor": 0
      },
      "text/plain": [
       "Downloading (…)nce_bert_config.json:   0%|          | 0.00/53.0 [00:00<?, ?B/s]"
      ]
     },
     "metadata": {},
     "output_type": "display_data"
    },
    {
     "data": {
      "application/vnd.jupyter.widget-view+json": {
       "model_id": "69091e6214e24aa0860ea02690ccb1b5",
       "version_major": 2,
       "version_minor": 0
      },
      "text/plain": [
       "Downloading (…)cial_tokens_map.json:   0%|          | 0.00/245 [00:00<?, ?B/s]"
      ]
     },
     "metadata": {},
     "output_type": "display_data"
    },
    {
     "data": {
      "application/vnd.jupyter.widget-view+json": {
       "model_id": "3aef2e7abde64d6d8804c01181e07bc4",
       "version_major": 2,
       "version_minor": 0
      },
      "text/plain": [
       "Downloading spiece.model:   0%|          | 0.00/760k [00:00<?, ?B/s]"
      ]
     },
     "metadata": {},
     "output_type": "display_data"
    },
    {
     "data": {
      "application/vnd.jupyter.widget-view+json": {
       "model_id": "5e17a79c1e69402bb9f993f867cb8b42",
       "version_major": 2,
       "version_minor": 0
      },
      "text/plain": [
       "Downloading tokenizer.json:   0%|          | 0.00/1.31M [00:00<?, ?B/s]"
      ]
     },
     "metadata": {},
     "output_type": "display_data"
    },
    {
     "data": {
      "application/vnd.jupyter.widget-view+json": {
       "model_id": "2f95d5e39de24d59bf0ce3287e85f24c",
       "version_major": 2,
       "version_minor": 0
      },
      "text/plain": [
       "Downloading tokenizer_config.json:   0%|          | 0.00/465 [00:00<?, ?B/s]"
      ]
     },
     "metadata": {},
     "output_type": "display_data"
    },
    {
     "data": {
      "application/vnd.jupyter.widget-view+json": {
       "model_id": "a1718058183b478eafba17d89438fbcf",
       "version_major": 2,
       "version_minor": 0
      },
      "text/plain": [
       "Downloading modules.json:   0%|          | 0.00/229 [00:00<?, ?B/s]"
      ]
     },
     "metadata": {},
     "output_type": "display_data"
    }
   ],
   "source": [
    "encoder=SentenceTransformer(\"paraphrase-albert-small-v2\")"
   ]
  },
  {
   "cell_type": "code",
   "execution_count": 16,
   "metadata": {},
   "outputs": [],
   "source": [
    "# vectors=encoder.encode(df.Comment)\n",
    "# encoder = YourEncoder()  # Replace YourEncoder() with the actual encoder you're using\n",
    "\n",
    "# Assuming df is your DataFrame with a column named 'Comment'\n",
    "comments_to_encode = df.head()['Comment']\n",
    "\n",
    "# Encode the comments\n",
    "vectors = encoder.encode(comments_to_encode)\n"
   ]
  },
  {
   "cell_type": "code",
   "execution_count": 17,
   "metadata": {},
   "outputs": [
    {
     "data": {
      "text/plain": [
       "(5, 768)"
      ]
     },
     "execution_count": 17,
     "metadata": {},
     "output_type": "execute_result"
    }
   ],
   "source": [
    "vectors.shape"
   ]
  },
  {
   "cell_type": "code",
   "execution_count": 27,
   "metadata": {},
   "outputs": [
    {
     "data": {
      "text/plain": [
       "array([ 4.99080658e-01, -2.62388408e-01,  3.87139976e-01, -2.06825450e-01,\n",
       "       -3.36135358e-01, -1.88161865e-01, -4.71417874e-01, -5.06358892e-02,\n",
       "        1.76873629e-03,  4.16783601e-01, -4.29671288e-01,  2.07445025e-01,\n",
       "       -5.48201263e-01,  6.99045122e-01,  1.77465439e-01,  1.46238089e-01,\n",
       "        4.34413552e-01, -2.69811183e-01, -4.76339608e-01,  1.02947056e-01,\n",
       "        3.00405324e-01, -1.88191175e-01,  2.00314522e-01, -2.80558914e-01,\n",
       "       -8.68709803e-01,  5.81036091e-01,  3.77456307e-01,  3.13272744e-01,\n",
       "       -1.39730200e-01, -1.47581428e-01, -4.23264802e-01, -3.72768864e-02,\n",
       "        3.46389562e-01,  2.21188992e-01, -8.38730931e-02,  4.93044972e-01,\n",
       "        1.15814233e+00, -2.41783336e-01, -5.60967438e-02, -1.18526630e-01,\n",
       "       -3.61775100e-01, -5.88280797e-01,  2.33435765e-01,  2.02556103e-02,\n",
       "        4.81150895e-01, -1.79625005e-02, -2.39118993e-01,  1.38019845e-01,\n",
       "       -5.68894804e-01,  2.47598559e-01, -2.81574965e-01,  2.64341712e-01,\n",
       "        1.95890591e-01,  5.75008333e-01, -1.90322101e-01, -7.61734545e-01,\n",
       "        3.30450833e-01, -9.22863707e-02,  1.74575016e-01,  5.14856577e-01,\n",
       "        5.66066802e-01, -4.76655960e-01,  4.24680918e-01,  2.01869264e-01,\n",
       "        1.13548136e+00,  4.98770952e-01,  9.66205522e-02,  2.69620329e-01,\n",
       "       -6.86485767e-01,  2.91609764e-01,  3.86307806e-01,  5.70550710e-02,\n",
       "       -5.15637398e-01,  4.92848784e-01,  1.09179541e-02,  1.09229648e+00,\n",
       "        1.21144829e-02, -1.77813900e+00, -1.53726429e-01, -1.19789124e-01,\n",
       "        4.55760926e-01, -6.92918897e-01,  2.56718160e-03, -6.67231500e-01,\n",
       "       -3.29144970e-02,  1.90563902e-01,  6.06908977e-01, -2.34659210e-01,\n",
       "        8.35907519e-01, -7.15245306e-01,  7.15260088e-01,  8.86167437e-02,\n",
       "       -1.51904628e-01,  4.34823036e-01, -3.43737930e-01,  9.47204113e-01,\n",
       "        8.57568160e-02, -2.73416251e-01,  4.10340317e-02,  2.86188900e-01,\n",
       "        4.11320925e-01, -5.33421934e-01, -1.51154613e-02, -2.63797324e-02,\n",
       "        4.00752686e-02,  3.16173255e-01, -4.76161718e-01,  1.74841076e-01,\n",
       "        1.29477248e-01,  5.66729426e-01,  6.76270485e-01, -3.36461782e-01,\n",
       "       -5.89493848e-02, -1.86197937e-01,  4.34184402e-01,  2.91039228e-01,\n",
       "       -1.14606941e+00, -2.37509385e-01,  6.54537529e-02,  2.66318858e-01,\n",
       "       -4.05973166e-01, -4.72738385e-01,  4.11402643e-01,  5.89925684e-02,\n",
       "        8.23354572e-02,  1.56408194e-02, -8.87102127e-01, -8.19064140e-01,\n",
       "       -2.78597265e-01, -9.93926730e-03,  7.12846518e-01, -4.63319212e-01,\n",
       "        5.15973926e-01, -2.04549193e-01,  9.63515639e-02, -2.76928693e-01,\n",
       "        1.66567881e-02, -4.42205757e-01, -3.41712713e-01,  8.53073150e-02,\n",
       "        5.92059612e-01,  6.00013733e-01, -2.12475747e-01,  7.44618058e-01,\n",
       "        5.06360471e-01, -4.50534284e-01, -2.48753995e-01, -9.17906642e-01,\n",
       "        9.12361562e-01,  5.00025094e-01, -3.83769758e-02,  4.32529002e-01,\n",
       "       -1.06098676e+00,  5.29980481e-01, -5.84910750e-01, -5.45003891e-01,\n",
       "        1.24905504e-01, -9.51345339e-02,  2.21431375e-01,  2.87646055e-01,\n",
       "       -3.52725118e-01,  2.28237092e-01, -7.80471444e-01,  8.66980478e-03,\n",
       "        1.70759678e-01,  5.90994656e-01, -1.08048484e-01, -1.55909419e-01,\n",
       "        1.08032346e-01, -5.92100382e-01, -4.49281693e-01, -2.30355039e-01,\n",
       "        1.13114975e-01, -3.86627704e-01, -7.70991325e-01,  7.22258389e-02,\n",
       "       -8.32288265e-02,  7.30348229e-01, -5.68269432e-01,  2.55864292e-01,\n",
       "        2.09333390e-01, -3.28107089e-01,  4.54996079e-01, -3.58265936e-01,\n",
       "       -7.13294506e-01, -3.87311310e-01, -2.91487247e-01,  3.29886824e-01,\n",
       "       -1.22129023e-02, -1.40555412e-01,  6.57347500e-01, -2.42540047e-01,\n",
       "        3.39740664e-01,  8.38339448e-01,  8.19820538e-02, -5.43680549e-01,\n",
       "        6.30439147e-02,  2.95390725e-01, -3.04438770e-01,  1.10792804e+00,\n",
       "        4.75511104e-01,  5.72379172e-01,  1.67301372e-01,  6.47111461e-02,\n",
       "       -9.50381577e-01,  1.38417035e-01,  2.73339123e-01, -6.92391872e-01,\n",
       "        5.37656605e-01,  4.14866477e-01, -5.38121104e-01,  6.07906803e-02,\n",
       "        4.69094872e-01, -1.47088483e-01, -1.17889069e-01,  9.28327292e-02,\n",
       "        3.70431751e-01, -1.60625502e-01, -7.85501152e-02,  1.68434992e-01,\n",
       "       -1.30202040e-01, -4.55937624e-01,  4.46451604e-01,  6.42340600e-01,\n",
       "        2.85420865e-01, -1.38684615e-01, -1.44076622e+00,  5.91114275e-02,\n",
       "       -3.86114679e-02,  4.03953314e-01, -6.36792719e-01,  6.15439534e-01,\n",
       "        1.35279343e-01, -4.28340971e-01, -2.63617426e-01,  2.95395646e-02,\n",
       "        6.78012311e-01,  5.62013030e-01, -2.47304663e-01, -5.20057857e-01,\n",
       "       -4.31501307e-02, -3.55174318e-02, -9.18118000e-01, -5.03383696e-01,\n",
       "        1.78414404e-01, -8.98271613e-03,  5.96465357e-02, -4.20502931e-01,\n",
       "        2.18643129e-01, -3.73042911e-01,  1.74890637e-01,  7.59341836e-01,\n",
       "       -8.28762352e-02, -2.00106502e-01, -2.56223351e-01, -1.46372929e-01,\n",
       "       -3.02937597e-01,  7.70421505e-01, -1.08573526e-01,  5.34824550e-01,\n",
       "        4.51714575e-01,  1.65065512e-01,  2.38853171e-01,  2.40651891e-01,\n",
       "        5.12619495e-01,  2.44281858e-01, -2.29047552e-01, -3.60985100e-01,\n",
       "        3.21258456e-01,  1.17519967e-01,  2.76294015e-02,  1.96882606e-01,\n",
       "       -4.63928655e-02, -4.84499246e-01, -4.97139156e-01,  2.66227484e-01,\n",
       "        4.56516147e-01,  2.03289762e-01, -1.40672296e-01, -7.92947590e-01,\n",
       "       -8.97702202e-03, -3.42240691e-01, -2.48152733e-01,  3.07642192e-01,\n",
       "        5.18401861e-01,  1.40208051e-01, -7.84441888e-01,  3.24442595e-01,\n",
       "       -3.43817919e-01, -3.94766748e-01, -9.02221873e-02, -3.80835831e-01,\n",
       "        5.79900444e-01, -2.87756652e-01,  4.31845099e-01, -4.66953427e-01,\n",
       "       -2.89424986e-01,  1.48524135e-01,  5.82062192e-02,  1.54182777e-01,\n",
       "       -2.01843381e-01,  2.65171140e-01,  3.25323582e-01,  1.52494514e-03,\n",
       "       -1.93159848e-01, -2.92845219e-01,  2.07617819e-01,  1.93093941e-01,\n",
       "       -1.53814048e-01,  2.24198610e-01,  9.68974173e-01, -2.84994751e-01,\n",
       "        1.67716160e-01, -1.59532607e-01, -4.48235691e-01,  3.99587899e-01,\n",
       "       -4.23720121e-01, -2.73712934e-03, -2.01958477e-01,  1.49412906e+00,\n",
       "       -1.08190000e-01, -1.09536201e-01,  1.71077967e-01, -3.04146498e-01,\n",
       "        2.90927231e-01, -1.38351455e-01,  7.39421666e-01, -2.28468537e-01,\n",
       "       -2.10326076e-01, -1.39194116e-01, -8.27109814e-01, -6.88203201e-02,\n",
       "        1.28220201e+00,  8.35776329e-04,  1.10513106e-01,  1.90619513e-01,\n",
       "       -4.92052257e-01, -3.87987763e-01,  5.18564343e-01,  6.28357291e-01,\n",
       "       -6.82848275e-01,  1.78078145e-01,  7.03922749e-01,  1.83103711e-03,\n",
       "        8.15673292e-01, -6.70728505e-01, -3.36851209e-01, -2.08358571e-01,\n",
       "       -3.34482044e-01,  3.03840846e-01, -6.51650250e-01,  8.56341794e-02,\n",
       "        3.71339619e-01,  9.66162503e-01,  7.12085545e-01, -4.27863061e-01,\n",
       "        1.87142283e-01,  5.27405202e-01, -2.03380406e-01, -3.08575809e-01,\n",
       "        5.21691799e-01,  1.75142407e-01,  2.78716624e-01, -3.39810312e-01,\n",
       "       -4.19110537e-01, -1.05814958e+00,  7.21148401e-02, -2.90607959e-01,\n",
       "       -4.78212684e-01, -8.24738860e-01, -1.20364539e-01, -5.17376624e-02,\n",
       "       -5.12084544e-01, -5.35054617e-02, -3.25462520e-01,  1.31581709e-01,\n",
       "        6.61609054e-01,  2.00097021e-02,  4.77128655e-01, -1.06667292e+00,\n",
       "       -6.26461580e-02, -2.97622085e-01,  5.98655522e-01,  2.57237494e-01,\n",
       "       -7.37420380e-01,  2.41888717e-01, -1.22369386e-01,  1.61951318e-01,\n",
       "        1.09676756e-01, -9.23248708e-01,  5.73499680e-01, -5.11083364e-01,\n",
       "        4.35692459e-01,  6.16293967e-01,  5.36182463e-01, -1.18149824e-01,\n",
       "        5.74612021e-01,  4.31367725e-01, -5.65710545e-01,  4.36852396e-01,\n",
       "       -1.14952676e-01, -2.10276291e-01, -1.99657470e-01, -3.24416459e-01,\n",
       "       -5.18144429e-01,  3.87478143e-01,  6.34329915e-01,  1.83857501e-01,\n",
       "        7.18162298e-01,  1.10296595e+00, -2.10185260e-01, -1.44754708e-01,\n",
       "       -8.83686364e-01, -4.48225945e-01,  7.79529810e-02, -3.44287664e-01,\n",
       "       -2.63970613e-01,  7.28533983e-01,  4.95123744e-01,  1.12456307e-01,\n",
       "       -1.51019007e-01, -5.22750080e-01,  9.41603065e-01,  3.70537043e-02,\n",
       "       -1.33576751e-01,  1.89240873e-01,  2.40107343e-01,  7.81181753e-01,\n",
       "        7.78669059e-01, -2.51996428e-01, -7.36790821e-02,  1.05662727e+00,\n",
       "       -6.75521493e-01, -4.01152045e-01, -3.96057725e-01, -8.83435488e-01,\n",
       "        3.62673700e-02,  4.33057919e-02, -1.01155438e-01, -2.64088750e-01,\n",
       "        5.39309323e-01, -3.76656383e-01, -1.67410463e-01,  1.86095476e-01,\n",
       "       -2.40431920e-01,  3.08591515e-01, -7.22363770e-01,  1.00766473e-01,\n",
       "        1.58579484e-01,  6.31043255e-01,  6.44476414e-01,  1.91828370e-01,\n",
       "        1.19062118e-01,  2.37319052e-01,  5.12998641e-01, -6.66628063e-01,\n",
       "       -3.40750933e-01, -8.93978894e-01, -1.63919792e-01,  2.92642415e-01,\n",
       "       -1.77943692e-01, -4.84522700e-01,  5.86409986e-01,  3.11049283e-01,\n",
       "       -6.21198475e-01,  3.36813360e-01, -2.51370668e-01, -2.29345877e-02,\n",
       "        1.50245219e-01, -4.28631365e-01, -4.38265294e-01, -2.76947498e-01,\n",
       "       -2.70132512e-01, -2.22145513e-01, -7.75237903e-02,  4.70787317e-01,\n",
       "        6.42296791e-01, -8.54767680e-01, -3.48286390e-01, -2.22169921e-01,\n",
       "        1.34085491e-01, -2.37293497e-01, -2.60075390e-01, -5.32855690e-01,\n",
       "       -8.63362104e-02,  2.38974571e-01, -2.05540627e-01, -5.41551471e-01,\n",
       "        3.59813452e-01, -9.68924820e-01, -4.23610955e-01, -2.16635883e-01,\n",
       "        2.51993060e-01,  6.06182039e-01, -2.71258175e-01,  4.16978508e-01,\n",
       "        4.52854961e-01, -5.71356356e-01,  5.55388749e-01,  1.19110012e+00,\n",
       "       -3.14408839e-02, -9.33540106e-01, -6.90568089e-01, -7.00629592e-01,\n",
       "        4.04719144e-01, -3.17377329e-01, -6.48060441e-01, -2.77742267e-01,\n",
       "       -3.29231441e-01, -3.82258475e-01, -2.38775194e-01,  1.94294308e-03,\n",
       "        3.20217870e-02, -3.66686881e-01,  7.04152822e-01,  1.25377011e+00,\n",
       "        8.03613290e-02,  3.16217512e-01, -6.13535583e-01,  5.75598180e-01,\n",
       "       -2.36802638e-01,  3.28969806e-01, -3.18526536e-01,  5.10886967e-01,\n",
       "       -4.23337877e-01, -2.06353903e-01, -1.04902303e+00, -1.10876203e+00,\n",
       "        5.16730785e-01, -2.09979996e-01, -1.79282889e-01,  8.28681588e-02,\n",
       "       -2.95239538e-01,  2.43049785e-02, -2.38491252e-01, -1.89354569e-01,\n",
       "        3.48966159e-02,  5.80116332e-01,  2.24785924e-01,  6.08512640e-01,\n",
       "       -7.68800318e-01, -1.03129251e-02,  5.88696122e-01, -4.60520953e-01,\n",
       "        5.97208440e-01, -2.04586107e-02,  4.40455765e-01, -9.92263556e-02,\n",
       "       -3.21778536e-01,  2.96754658e-01, -8.68688822e-01, -3.75845671e-01,\n",
       "       -7.04883933e-02, -8.36583972e-01, -5.29888511e-01,  4.01968569e-01,\n",
       "       -5.71863294e-01,  1.25587893e+00,  5.34971297e-01, -5.75883090e-02,\n",
       "        1.25699222e-01, -1.33163467e-01,  1.90616220e-01, -1.71871305e-01,\n",
       "        4.14940208e-01,  8.86191726e-02, -7.53580481e-02,  2.36438528e-01,\n",
       "       -8.68679523e-01, -2.89637655e-01,  9.35762465e-01, -6.86718583e-01,\n",
       "        6.71183527e-01,  1.04893005e+00, -8.93347144e-01, -1.00128412e-01,\n",
       "        3.75982374e-02,  1.83470532e-01,  3.52129728e-01, -1.34460703e-02,\n",
       "        1.96663022e-01, -1.53952643e-01,  2.58186370e-01,  2.02024207e-01,\n",
       "        9.33071151e-02, -1.75178796e-01, -4.44316298e-01,  2.58992821e-01,\n",
       "        3.29984486e-01,  3.65713894e-01,  3.87011856e-01,  3.02108467e-01,\n",
       "        7.03279674e-02,  1.04291582e+00, -2.04423562e-01, -2.51568049e-01,\n",
       "       -1.19201593e-01, -5.26481986e-01, -1.34775713e-02,  7.58208930e-01,\n",
       "       -1.53902456e-01,  2.72819668e-01,  5.82054444e-02, -2.61766642e-01,\n",
       "       -4.58126456e-01, -3.17704469e-01, -4.38268900e-01, -4.06313121e-01,\n",
       "       -1.22595072e-01, -8.74376655e-01, -1.02462582e-01, -1.33960381e-01,\n",
       "       -6.38252735e-01,  3.31858903e-01, -3.77109140e-01,  8.15984607e-03,\n",
       "        8.49070072e-01, -5.19242547e-02, -6.11011922e-01,  6.71083093e-01,\n",
       "        1.75611228e-02, -4.57343757e-02, -8.27790573e-02,  9.41060036e-02,\n",
       "       -4.11390543e-01, -4.60033834e-01, -3.66090208e-01,  8.44821036e-02,\n",
       "        6.88102663e-01,  1.11199176e+00, -7.88428783e-01, -8.18239525e-02,\n",
       "       -5.06528327e-03,  2.76357383e-01, -7.61922598e-01, -3.50550622e-01,\n",
       "       -8.41630101e-02,  4.68840957e-01,  4.79546368e-01, -6.54752016e-01,\n",
       "        9.33386572e-03, -5.10783076e-01,  4.17055964e-01, -3.58301640e-01,\n",
       "       -1.33690155e+00,  2.29385093e-01, -9.34089541e-01,  2.83942968e-01,\n",
       "        2.81816572e-01, -4.99199867e-01,  3.50684017e-01,  9.06910479e-01,\n",
       "        2.93851078e-01,  7.78886318e-01, -4.40150976e-01, -1.31248146e-01,\n",
       "       -5.25528908e-01,  3.99622411e-01,  4.40098375e-01, -2.18148038e-01,\n",
       "        6.42822385e-02,  4.48161185e-01, -1.37959510e-01, -1.56898484e-01,\n",
       "       -1.17232406e+00, -5.62884629e-01,  5.06307185e-01,  2.10245967e-01,\n",
       "        9.91643369e-01, -1.20336354e-01,  8.78158510e-02, -1.85122892e-01,\n",
       "        6.08134151e-01, -4.90108371e-01, -2.85601057e-02, -1.47122830e-01,\n",
       "       -8.05280507e-01, -2.24879310e-01, -8.14065218e-01, -4.74838257e-01,\n",
       "       -5.19894697e-02, -1.18381120e-01, -1.36551693e-01,  3.11220884e-01,\n",
       "        3.08925718e-01, -1.10287821e+00, -3.56865078e-02, -1.50366407e-02,\n",
       "        4.13255930e-01,  2.47974113e-01,  3.94582361e-01, -1.10637024e-01,\n",
       "       -4.10231709e-01,  3.21416035e-02, -2.04640515e-02,  2.08653614e-01,\n",
       "       -1.14186347e-01, -2.11652871e-02,  3.05582136e-02, -4.59258229e-01,\n",
       "        1.97083324e-01, -7.79056311e-01, -8.72725964e-01,  2.57283449e-01,\n",
       "       -7.57109582e-01, -5.17151020e-02,  6.87074065e-01, -7.72359252e-01,\n",
       "       -1.92122668e-01, -4.01480608e-02,  2.67751932e-01,  5.17379493e-02,\n",
       "       -7.41673410e-01, -7.19205558e-01,  4.77652371e-01, -2.11874038e-01,\n",
       "       -1.11329205e-01,  7.52439678e-01,  2.53731680e+00, -2.41679281e-01,\n",
       "        6.73565388e-01, -2.39322305e-01,  2.36965850e-01,  4.86218572e-01,\n",
       "        4.40653898e-02,  5.30215800e-01, -9.48075503e-02,  1.79896712e-01,\n",
       "       -1.33493558e-01, -2.82264594e-02, -8.28933418e-02, -8.52121264e-02,\n",
       "       -3.43918890e-01,  5.36087453e-01, -9.34436917e-01, -5.46363175e-01,\n",
       "        5.92733502e-01, -1.72424152e-01,  3.65651816e-01,  2.83449620e-01,\n",
       "        5.24249673e-01, -1.40622258e-02,  6.47808254e-01,  1.97350495e-02,\n",
       "        2.27574855e-01, -9.30499434e-02,  2.35868573e-01,  1.06265359e-01,\n",
       "        3.26993585e-01,  3.60189497e-01,  4.75104213e-01, -9.30057228e-01,\n",
       "       -1.77628532e-01,  2.86410493e-03, -1.31067216e+00, -1.02537227e+00,\n",
       "        3.23422581e-01,  5.82657456e-01, -4.00560617e-01, -1.26219198e-01,\n",
       "       -4.10909027e-01, -3.07389617e-01,  4.34352368e-01, -1.74084559e-01,\n",
       "        2.09216505e-01, -3.16083968e-01,  5.45520842e-01, -2.56258607e-01],\n",
       "      dtype=float32)"
      ]
     },
     "execution_count": 27,
     "metadata": {},
     "output_type": "execute_result"
    }
   ],
   "source": [
    "vectors[0]"
   ]
  },
  {
   "cell_type": "code",
   "execution_count": 28,
   "metadata": {},
   "outputs": [],
   "source": [
    "dim=vectors.shape[1]"
   ]
  },
  {
   "cell_type": "code",
   "execution_count": 29,
   "metadata": {},
   "outputs": [
    {
     "data": {
      "text/plain": [
       "768"
      ]
     },
     "execution_count": 29,
     "metadata": {},
     "output_type": "execute_result"
    }
   ],
   "source": [
    "dim"
   ]
  },
  {
   "cell_type": "code",
   "execution_count": 30,
   "metadata": {},
   "outputs": [],
   "source": [
    "import faiss "
   ]
  },
  {
   "cell_type": "code",
   "execution_count": 32,
   "metadata": {},
   "outputs": [
    {
     "data": {
      "text/plain": [
       "<faiss.swigfaiss.IndexFlatL2; proxy of <Swig Object of type 'faiss::IndexFlatL2 *' at 0x000001A348884060> >"
      ]
     },
     "execution_count": 32,
     "metadata": {},
     "output_type": "execute_result"
    }
   ],
   "source": [
    "index=faiss.IndexFlatL2(dim)\n",
    "index"
   ]
  },
  {
   "cell_type": "code",
   "execution_count": 33,
   "metadata": {},
   "outputs": [],
   "source": [
    "index.add(vectors)"
   ]
  },
  {
   "cell_type": "code",
   "execution_count": 46,
   "metadata": {},
   "outputs": [
    {
     "data": {
      "text/plain": [
       "(768,)"
      ]
     },
     "execution_count": 46,
     "metadata": {},
     "output_type": "execute_result"
    }
   ],
   "source": [
    "search_query=\"I hate you\"\n",
    "\n",
    "vec=encoder.encode(search_query)\n",
    "vec.shape"
   ]
  },
  {
   "cell_type": "code",
   "execution_count": 47,
   "metadata": {},
   "outputs": [
    {
     "data": {
      "text/plain": [
       "array([ 3.53170261e-02,  5.48580885e-02,  7.68975019e-02, -5.11862576e-01,\n",
       "       -1.39677778e-01,  6.30597413e-01,  7.91516602e-02, -1.12155974e+00,\n",
       "       -2.37402365e-01,  8.89715016e-01, -3.90968949e-01,  4.25162017e-01,\n",
       "        5.38321614e-01,  6.04878604e-01, -7.78269649e-01,  8.30950379e-01,\n",
       "        9.60473835e-01, -1.15746737e+00,  2.42732495e-01, -3.85694243e-02,\n",
       "        4.03170675e-01,  4.83451903e-01,  9.16754127e-01, -2.68457025e-01,\n",
       "        1.13725208e-01, -2.62614667e-01,  4.85730350e-01,  3.59603226e-01,\n",
       "       -5.13193786e-01,  6.91885769e-01,  1.36675730e-01,  9.07011628e-01,\n",
       "        4.15827602e-01,  4.64914814e-02, -6.03682399e-01,  1.84767753e-01,\n",
       "        2.10674718e-01, -5.63321948e-01,  6.94019813e-03, -1.15271792e-01,\n",
       "        3.88080209e-01, -6.83787346e-01,  2.39695787e-01,  5.07873595e-01,\n",
       "        6.67056918e-01,  6.76938891e-01, -2.92935427e-02, -8.32455039e-01,\n",
       "       -4.99787152e-01,  5.40522158e-01,  6.37131333e-01,  1.27024204e-01,\n",
       "       -7.73612708e-02, -1.98467821e-01, -9.91909355e-02, -6.58768177e-01,\n",
       "       -8.50747973e-02, -1.01614833e+00,  8.05780113e-01,  5.35053313e-01,\n",
       "        1.50164487e-02, -1.97172195e-01,  3.05423200e-01,  1.74209625e-01,\n",
       "        1.07483888e+00,  1.82131827e-01,  2.81607211e-01, -4.03582007e-01,\n",
       "       -3.37526500e-01, -5.18241048e-01, -3.05027477e-02,  4.20700371e-01,\n",
       "       -2.73555100e-01, -1.31970406e-01,  9.78093129e-03,  3.44658226e-01,\n",
       "       -5.99615216e-01, -9.53319192e-01,  5.33450723e-01, -4.18247998e-01,\n",
       "        8.28454614e-01, -4.27925736e-01,  7.13763386e-02, -3.32304567e-01,\n",
       "        1.90407038e-01,  5.87000489e-01, -1.70559078e-01, -5.61332047e-01,\n",
       "       -2.87455410e-01, -2.37926960e-01, -7.22360164e-02,  2.67115772e-01,\n",
       "        5.50199926e-01,  2.74854213e-01,  5.65504804e-02,  2.94674307e-01,\n",
       "       -2.08271340e-01,  4.37010050e-01, -1.73074797e-01,  7.57297635e-01,\n",
       "        1.35398239e-01, -3.67991447e-01, -2.98766166e-01,  8.58576179e-01,\n",
       "        6.61051869e-01,  9.54854712e-02, -2.72286594e-01, -8.26860294e-02,\n",
       "       -3.83087873e-01, -6.07716680e-01,  5.35465419e-01,  3.59604686e-01,\n",
       "        7.68686652e-01, -9.06018838e-02,  7.97469556e-01, -7.52976060e-01,\n",
       "        5.29257068e-03, -4.15398598e-01, -5.07994652e-01, -3.43451090e-02,\n",
       "        4.93177563e-01, -5.92333615e-01, -1.02783847e+00,  3.41854990e-01,\n",
       "        4.30690855e-01,  2.59688705e-01, -6.54802859e-01, -2.48788267e-01,\n",
       "       -5.24429798e-01, -5.96631467e-02,  1.21227098e+00,  4.56245840e-01,\n",
       "        1.29257131e+00, -6.08318388e-01,  6.47377074e-01,  1.87672183e-01,\n",
       "        3.69770527e-02, -1.18493819e+00, -9.75412130e-03, -7.19400793e-02,\n",
       "        3.91202301e-01,  8.59205425e-01,  3.39546591e-01,  2.88665712e-01,\n",
       "        1.04556394e+00, -5.41605771e-01, -3.12526584e-01, -3.11082929e-01,\n",
       "        5.92168808e-01,  5.78863978e-01,  9.70267057e-02,  6.05364203e-01,\n",
       "       -2.81283528e-01,  1.01765800e+00, -4.00280356e-02, -1.74561962e-01,\n",
       "       -6.06377065e-01, -1.98776990e-01, -1.22599147e-01,  7.27212906e-01,\n",
       "       -4.98898607e-03, -3.79766643e-01, -1.10426307e+00, -8.59412625e-02,\n",
       "        5.92869408e-02,  6.35583043e-01,  6.47534549e-01,  3.78365512e-03,\n",
       "       -5.75460076e-01, -5.98258317e-01, -2.71601863e-02, -2.06781074e-01,\n",
       "       -6.10022247e-01,  4.31851566e-01, -4.85728323e-01, -1.56128462e-02,\n",
       "        1.18752874e-01,  4.32704668e-03, -8.64785850e-01, -1.33651659e-01,\n",
       "       -2.39617199e-01,  3.43604386e-01,  4.09553856e-01, -1.49558949e+00,\n",
       "       -8.16952158e-03,  7.67165959e-01, -7.86711127e-02, -6.93738341e-01,\n",
       "        1.16775468e-01,  2.73975998e-01, -2.27775663e-01,  5.88716865e-01,\n",
       "        8.41262415e-02, -9.78497863e-02, -4.05945450e-01, -1.26455617e+00,\n",
       "       -6.38640046e-01, -4.92232174e-01,  2.15826228e-01, -8.38141292e-02,\n",
       "       -7.85598159e-01,  6.43927634e-01,  1.46235064e-01, -5.42045459e-02,\n",
       "       -8.81548285e-01, -1.38116598e-01, -8.99833292e-02, -5.54357827e-01,\n",
       "        5.47980845e-01, -1.27934426e-01, -9.50315475e-01, -6.28648877e-01,\n",
       "        3.45378965e-01, -2.16555789e-01, -1.26655519e+00,  5.24836898e-01,\n",
       "        5.32627106e-03, -3.46644580e-01, -4.55911234e-02,  4.26630110e-01,\n",
       "       -3.42163503e-01, -8.39565754e-01, -3.30684194e-03,  5.28653085e-01,\n",
       "       -2.73439176e-02,  4.14365858e-01, -5.91391683e-01,  4.30184364e-01,\n",
       "       -6.49295896e-02,  4.69230175e-01, -1.70619637e-01,  2.62886345e-01,\n",
       "       -3.45709175e-01, -3.59270163e-02, -5.75079620e-01, -3.37747693e-01,\n",
       "        3.42524201e-01, -7.16577947e-01,  1.77412719e-01,  2.22505137e-01,\n",
       "       -1.00275874e+00, -3.09158593e-01, -3.42370629e-01, -6.81387961e-01,\n",
       "        7.81533003e-01, -3.14819336e-01, -2.08235327e-02, -8.20749581e-01,\n",
       "       -1.38022780e-01,  3.41283560e-01,  9.68261123e-01,  1.73471153e-01,\n",
       "        6.54582828e-02, -4.50473249e-01,  1.34520322e-01,  6.40213132e-01,\n",
       "       -1.04112983e+00,  5.54574847e-01, -4.40690577e-01,  5.20350397e-01,\n",
       "        3.79807944e-03, -5.14904261e-01,  1.73390031e-01, -7.35347390e-01,\n",
       "       -3.50760937e-01,  5.78532994e-01,  4.32731777e-01,  6.05758419e-03,\n",
       "       -2.22314671e-01, -6.18493855e-01,  6.48738205e-01, -3.36591303e-01,\n",
       "       -1.42028463e+00, -3.44665408e-01, -6.56305909e-01, -8.96768928e-01,\n",
       "       -1.07137099e-01,  1.46148250e-01, -1.69730738e-01, -1.20481420e+00,\n",
       "       -2.56199658e-01, -2.70313680e-01, -3.75767678e-01,  1.29840106e-01,\n",
       "       -5.53360939e-01,  3.45509946e-02, -6.62183464e-01,  3.35769117e-01,\n",
       "       -5.34972310e-01, -1.02917957e+00, -2.69839585e-01,  3.75898421e-01,\n",
       "        2.42893815e-01, -1.19228125e-01,  1.32197702e+00,  9.61332247e-02,\n",
       "        7.25383312e-02, -1.50155304e-02, -2.84287423e-01,  3.12036388e-02,\n",
       "       -5.49880750e-02,  1.63604945e-01,  1.16200542e+00, -6.52361572e-01,\n",
       "       -6.90400481e-01, -6.28860652e-01,  5.98906167e-02,  1.86205938e-01,\n",
       "       -2.15865999e-01,  2.09945589e-01,  3.33741605e-01,  6.03723228e-01,\n",
       "        3.49825740e-01,  4.03499365e-01, -6.49097085e-01,  4.32235062e-01,\n",
       "        1.85765788e-01, -3.82937908e-01,  4.48154882e-02,  1.47514260e+00,\n",
       "        2.81871110e-01, -3.37239921e-01,  5.20104945e-01,  3.01181883e-01,\n",
       "        7.76700675e-01,  3.54683697e-01,  8.30993950e-01, -3.70309725e-02,\n",
       "        7.84108415e-02,  3.44287097e-01,  5.15190482e-01, -8.54774937e-02,\n",
       "       -1.30965501e-01,  2.08847716e-01,  2.58839846e-01,  8.53314042e-01,\n",
       "       -1.47226099e-02, -1.04094716e-02, -6.22216582e-01, -1.15553118e-01,\n",
       "       -3.66689265e-01, -5.47740817e-01,  9.26952437e-02, -1.96991473e-01,\n",
       "        9.44316208e-01, -1.01884767e-01, -2.75103807e-01, -4.67849672e-01,\n",
       "        1.29188254e-01, -6.61626816e-01,  6.76147342e-01, -1.22048758e-01,\n",
       "       -1.07977855e+00,  3.06327045e-02, -6.61224484e-01, -5.16781926e-01,\n",
       "       -4.32697117e-01, -3.01596224e-01,  5.99744916e-01, -7.21778393e-01,\n",
       "        3.50561231e-01,  4.31349456e-01, -4.85386282e-01, -5.34175575e-01,\n",
       "        1.49946213e-01, -3.32701534e-01, -3.67479354e-01,  4.10431862e-01,\n",
       "       -9.48923111e-01, -7.86719322e-01, -1.10945809e+00,  1.26600072e-01,\n",
       "       -5.11685371e-01, -8.27801406e-01,  3.76965404e-01,  3.17006528e-01,\n",
       "       -2.46286705e-01,  2.07972795e-01,  6.60761952e-01, -1.59501523e-01,\n",
       "        3.00402552e-01,  5.96049912e-02,  4.65409234e-02,  4.16064829e-01,\n",
       "       -1.13456272e-01,  8.87469500e-02, -4.62953746e-01, -5.46029210e-01,\n",
       "        1.42141610e-01, -1.12241375e+00,  2.62802511e-01, -4.53334987e-01,\n",
       "        4.97431844e-01,  2.08767146e-01,  6.90057576e-01, -2.16502145e-01,\n",
       "        2.65208241e-02, -1.51525721e-01, -5.73706508e-01, -2.00429112e-01,\n",
       "        3.06042999e-01, -1.23384798e+00,  9.04380977e-01,  2.21970603e-01,\n",
       "       -4.43245977e-01, -1.63525537e-01, -2.34810859e-01, -5.48060894e-01,\n",
       "       -4.46272224e-01,  5.09683430e-01, -6.59088910e-01, -9.45751369e-01,\n",
       "       -2.57851779e-01, -6.77119613e-01,  8.97411644e-01,  2.93696463e-01,\n",
       "       -4.38600868e-01,  3.88840258e-01, -1.68847978e-01, -5.09039521e-01,\n",
       "        5.71136892e-01,  5.89469850e-01,  3.81420225e-01,  3.59692037e-01,\n",
       "       -3.45480442e-03, -5.78133047e-01, -2.57306337e-01, -8.10481831e-02,\n",
       "       -4.97295439e-01, -5.17390609e-01, -1.50330067e-01,  2.93530077e-01,\n",
       "        8.64243656e-02, -9.13066566e-01, -4.72171783e-01, -4.54054266e-01,\n",
       "        9.55177993e-02, -2.81348582e-02, -4.29427058e-01, -2.31887296e-01,\n",
       "        7.22950101e-01, -1.32382900e-01, -7.92699456e-01,  4.00512069e-01,\n",
       "       -5.24855494e-01,  6.02124333e-01,  1.34488538e-01,  3.02562863e-01,\n",
       "       -7.43432164e-01,  4.42667425e-01,  5.79341590e-01,  4.20129716e-01,\n",
       "        3.41964185e-01,  1.53633192e-01,  7.23818243e-01,  5.49197555e-01,\n",
       "        4.56182718e-01, -6.00633442e-01,  4.38227355e-01, -8.20489287e-01,\n",
       "        2.97442973e-01, -3.39657873e-01,  5.85675120e-01,  1.45970374e-01,\n",
       "       -8.01437348e-02, -8.31031799e-02,  1.07259508e-02,  1.53285474e-01,\n",
       "       -4.50589836e-01,  3.05666834e-01, -2.23538682e-01,  3.76280576e-01,\n",
       "        7.78752491e-02,  8.35993409e-01,  2.78551638e-01,  6.39822602e-01,\n",
       "        1.02787077e-01, -6.62532449e-01, -5.27495384e-01, -2.19163820e-01,\n",
       "        1.74706541e-02, -4.35018718e-01, -3.25178683e-01, -2.83932596e-01,\n",
       "       -4.21744108e-01,  3.91497523e-01, -1.43848537e-02,  5.01767278e-01,\n",
       "        1.20598090e+00, -9.15771008e-01,  1.98651254e-01,  1.86907485e-01,\n",
       "        1.81634620e-01,  3.62427771e-01, -6.41564012e-01,  4.01189417e-01,\n",
       "        1.75276756e-01,  2.43349299e-02,  2.14642495e-01,  7.91789651e-01,\n",
       "        4.05604858e-03, -3.38352114e-01, -3.45674381e-02, -7.84401953e-01,\n",
       "       -9.03316855e-01,  3.93339507e-02, -2.12274000e-01, -1.17280972e+00,\n",
       "        1.66889548e-01, -4.41362381e-01,  2.33510539e-01, -1.18280008e-01,\n",
       "       -7.79317260e-01,  2.72299767e-01, -2.79376447e-01,  1.30170929e+00,\n",
       "        1.16120055e-01,  6.22706413e-01, -8.32206547e-01, -4.49215412e-01,\n",
       "       -3.25935304e-01,  3.45748097e-01,  1.11902915e-01,  5.27522206e-01,\n",
       "        6.50916755e-01,  4.72883314e-01, -2.87282705e-01,  2.41177320e-01,\n",
       "       -6.75470233e-01,  7.83872962e-01,  3.11417043e-01,  4.34557199e-01,\n",
       "       -2.24087000e-01, -4.93594646e-01, -1.49204105e-01,  3.21021788e-02,\n",
       "        4.05222744e-01,  1.16088390e-01, -7.48595178e-01,  2.98660010e-01,\n",
       "        5.25345683e-01, -3.57761160e-02,  7.16628432e-01, -3.21271032e-01,\n",
       "       -7.19959855e-01,  2.79852688e-01,  5.13759196e-01, -3.00875217e-01,\n",
       "        4.17358503e-02,  7.66883910e-01, -2.20870808e-01,  5.37651420e-01,\n",
       "        2.80957580e-01, -6.17677867e-01, -5.33599615e-01,  3.15957844e-01,\n",
       "       -1.00697435e-01, -3.78229558e-01,  4.05807585e-01,  2.27929652e-03,\n",
       "       -3.86360049e-01, -7.05223739e-01, -5.86040199e-01, -5.16080976e-01,\n",
       "       -2.90068716e-01,  8.29710007e-01,  3.11031342e-01,  9.62146401e-01,\n",
       "       -3.70840579e-02, -3.87041897e-01,  1.10837710e+00, -7.28112608e-02,\n",
       "       -4.28623348e-01, -3.19962442e-01, -7.84645379e-01,  2.74629295e-01,\n",
       "       -6.79805994e-01,  5.49532533e-01, -6.71966821e-02,  6.97751820e-01,\n",
       "        5.97183824e-01, -8.34956616e-02,  1.20716345e+00, -3.16571414e-01,\n",
       "        5.58641493e-01,  1.23988643e-01,  2.05340460e-01,  1.51937723e-01,\n",
       "       -7.48803794e-01,  5.79560027e-02, -2.95446455e-01, -7.73503423e-01,\n",
       "       -4.94320095e-01,  2.71256655e-01,  1.39479458e-01, -6.59829080e-01,\n",
       "        8.82463306e-02, -1.50607795e-01, -1.98782295e-01,  3.17427546e-01,\n",
       "        1.38894945e-01,  2.01795414e-01,  2.92183340e-01,  1.30479842e-01,\n",
       "        1.91053569e-01,  4.04394329e-01,  2.14537546e-01, -9.49991882e-01,\n",
       "       -7.55967617e-01, -2.72464573e-01, -2.39176437e-01, -4.77870643e-01,\n",
       "       -2.39365935e-01,  7.11609721e-01, -3.76629010e-02, -3.63906801e-01,\n",
       "       -8.88204500e-02, -1.22651744e+00, -3.06563318e-01,  5.29236436e-01,\n",
       "       -2.05081180e-01,  3.55364174e-01, -4.78557676e-01, -1.01553559e+00,\n",
       "       -1.15166984e-01, -5.33307254e-01,  4.39647846e-02, -3.98979485e-01,\n",
       "        2.72655398e-01,  1.25591848e-02,  4.88451809e-01,  4.22014624e-01,\n",
       "       -6.92256272e-01, -6.90516353e-01, -5.07971883e-01, -2.51213819e-01,\n",
       "       -1.20392680e-01, -5.60068190e-01,  1.04927206e+00, -1.04789555e+00,\n",
       "        2.83158362e-01, -1.11113477e+00, -3.91289182e-02,  7.70364881e-01,\n",
       "       -9.31689441e-01, -1.09803975e-01, -7.08093584e-01,  8.65602642e-02,\n",
       "       -2.63176143e-01, -7.46006012e-01,  7.69640923e-01,  2.14418605e-01,\n",
       "        3.82684410e-01,  1.02836490e+00, -4.13541853e-01,  4.96113479e-01,\n",
       "       -4.06490952e-01,  3.72409403e-01,  5.80528378e-01, -7.96634495e-01,\n",
       "        1.59267277e-01, -6.26840591e-01, -6.25380874e-01, -6.51898742e-01,\n",
       "       -1.02192235e+00, -6.47653282e-01,  1.11931157e+00,  1.04388759e-01,\n",
       "        6.20294690e-01,  2.22625285e-01,  1.76295921e-01, -1.09796628e-01,\n",
       "        4.60260004e-01,  8.30068365e-02,  5.64559519e-01,  3.13106626e-01,\n",
       "       -7.18330741e-01,  3.60558927e-01, -2.19089076e-01, -4.34362516e-02,\n",
       "        1.10430086e+00,  9.91552919e-02, -4.06164587e-01, -1.38779674e-02,\n",
       "        4.86859381e-01, -6.44488692e-01,  2.75601417e-01,  5.05428910e-01,\n",
       "        1.07329559e+00,  1.12596071e+00,  6.07212305e-01,  2.68694550e-01,\n",
       "        4.82660681e-01,  2.60394420e-02,  4.05467033e-01, -5.32758415e-01,\n",
       "        2.47275382e-01, -2.94739336e-01, -3.15489799e-01, -1.83294684e-01,\n",
       "        8.61468136e-01, -1.84732482e-01, -1.13528274e-01,  1.97881967e-01,\n",
       "       -2.33476400e-01,  7.54367700e-03,  2.73294985e-01, -7.44605601e-01,\n",
       "        2.49020651e-01, -5.64996660e-01,  1.50346613e+00,  1.26737684e-01,\n",
       "       -1.96953639e-01, -7.19469309e-01,  8.67467403e-01,  7.01288342e-01,\n",
       "       -2.44043633e-01,  7.09383130e-01,  2.53655076e+00, -6.02028787e-01,\n",
       "        1.20294070e+00, -4.77767944e-01, -2.24156812e-01,  1.22648621e+00,\n",
       "        3.93094867e-01,  1.47270009e-01,  1.09548375e-01,  1.04534492e-01,\n",
       "       -2.38384694e-01,  1.01942551e+00, -3.59986544e-01,  8.86944309e-02,\n",
       "        8.42910558e-02,  2.62293369e-01,  2.47040510e-01,  3.18852305e-01,\n",
       "       -2.30380353e-02,  1.22814429e+00,  1.86526343e-01, -2.62445696e-02,\n",
       "       -1.04656458e-01,  9.68078822e-02, -4.21540961e-02, -2.36689091e-01,\n",
       "       -5.33763051e-01,  5.27948141e-01,  2.76932955e-01,  1.16022982e-01,\n",
       "        3.88289511e-01,  3.15478712e-01, -4.57881868e-01, -3.37349117e-01,\n",
       "        4.95229870e-01, -1.36844844e-01, -7.38336682e-01, -1.13689017e+00,\n",
       "        7.18317151e-01, -1.07440829e-01,  9.13239736e-03,  1.79255396e-01,\n",
       "        5.83078265e-01, -1.19698822e+00,  6.86536193e-01, -1.30240083e-01,\n",
       "        2.61570305e-01,  9.19742137e-02,  2.09988147e-01,  2.77835019e-02],\n",
       "      dtype=float32)"
      ]
     },
     "execution_count": 47,
     "metadata": {},
     "output_type": "execute_result"
    }
   ],
   "source": [
    "vec"
   ]
  },
  {
   "cell_type": "code",
   "execution_count": 48,
   "metadata": {},
   "outputs": [
    {
     "data": {
      "text/plain": [
       "(1, 768)"
      ]
     },
     "execution_count": 48,
     "metadata": {},
     "output_type": "execute_result"
    }
   ],
   "source": [
    "import numpy as np\n",
    "svec=np.array(vec).reshape(1,-1)\n",
    "svec.shape"
   ]
  },
  {
   "cell_type": "code",
   "execution_count": null,
   "metadata": {},
   "outputs": [],
   "source": []
  },
  {
   "cell_type": "code",
   "execution_count": 49,
   "metadata": {},
   "outputs": [
    {
     "name": "stdout",
     "output_type": "stream",
     "text": [
      "(768,)\n"
     ]
    }
   ],
   "source": [
    "print(vec.shape)\n"
   ]
  },
  {
   "cell_type": "code",
   "execution_count": 52,
   "metadata": {},
   "outputs": [],
   "source": [
    "distance,I=index.search(svec,k=2)"
   ]
  },
  {
   "cell_type": "code",
   "execution_count": 53,
   "metadata": {},
   "outputs": [
    {
     "data": {
      "text/plain": [
       "array([[0, 2]], dtype=int64)"
      ]
     },
     "execution_count": 53,
     "metadata": {},
     "output_type": "execute_result"
    }
   ],
   "source": [
    "I"
   ]
  },
  {
   "cell_type": "code",
   "execution_count": 55,
   "metadata": {},
   "outputs": [
    {
     "data": {
      "text/html": [
       "<div>\n",
       "<style scoped>\n",
       "    .dataframe tbody tr th:only-of-type {\n",
       "        vertical-align: middle;\n",
       "    }\n",
       "\n",
       "    .dataframe tbody tr th {\n",
       "        vertical-align: top;\n",
       "    }\n",
       "\n",
       "    .dataframe thead th {\n",
       "        text-align: right;\n",
       "    }\n",
       "</style>\n",
       "<table border=\"1\" class=\"dataframe\">\n",
       "  <thead>\n",
       "    <tr style=\"text-align: right;\">\n",
       "      <th></th>\n",
       "      <th>Comment</th>\n",
       "      <th>Emotion</th>\n",
       "    </tr>\n",
       "  </thead>\n",
       "  <tbody>\n",
       "    <tr>\n",
       "      <th>0</th>\n",
       "      <td>i seriously hate one subject to death but now i feel reluctant to drop it</td>\n",
       "      <td>fear</td>\n",
       "    </tr>\n",
       "    <tr>\n",
       "      <th>2</th>\n",
       "      <td>i sit here to write i start to dig out my feelings and i think that i am afraid to accept the po...</td>\n",
       "      <td>fear</td>\n",
       "    </tr>\n",
       "  </tbody>\n",
       "</table>\n",
       "</div>"
      ],
      "text/plain": [
       "                                                                                               Comment  \\\n",
       "0                            i seriously hate one subject to death but now i feel reluctant to drop it   \n",
       "2  i sit here to write i start to dig out my feelings and i think that i am afraid to accept the po...   \n",
       "\n",
       "  Emotion  \n",
       "0    fear  \n",
       "2    fear  "
      ]
     },
     "execution_count": 55,
     "metadata": {},
     "output_type": "execute_result"
    }
   ],
   "source": [
    "df.loc[I[0]]"
   ]
  },
  {
   "cell_type": "code",
   "execution_count": 56,
   "metadata": {},
   "outputs": [
    {
     "data": {
      "text/plain": [
       "'I hate you'"
      ]
     },
     "execution_count": 56,
     "metadata": {},
     "output_type": "execute_result"
    }
   ],
   "source": [
    "search_query"
   ]
  },
  {
   "cell_type": "code",
   "execution_count": 57,
   "metadata": {},
   "outputs": [],
   "source": [
    "from langchain.embeddings import OpenAIEmbeddings"
   ]
  },
  {
   "cell_type": "code",
   "execution_count": 60,
   "metadata": {},
   "outputs": [
    {
     "ename": "ModuleNotFoundError",
     "evalue": "No module named 'vertexai'",
     "output_type": "error",
     "traceback": [
      "\u001b[1;31m---------------------------------------------------------------------------\u001b[0m",
      "\u001b[1;31mModuleNotFoundError\u001b[0m                       Traceback (most recent call last)",
      "Cell \u001b[1;32mIn[60], line 1\u001b[0m\n\u001b[1;32m----> 1\u001b[0m \u001b[38;5;28;01mimport\u001b[39;00m \u001b[38;5;21;01mvertexai\u001b[39;00m\n\u001b[0;32m      2\u001b[0m \u001b[38;5;28;01mfrom\u001b[39;00m \u001b[38;5;21;01mvertexai\u001b[39;00m\u001b[38;5;21;01m.\u001b[39;00m\u001b[38;5;21;01mlanguage_models\u001b[39;00m \u001b[38;5;28;01mimport\u001b[39;00m TextEmbeddingInput, TextEmbeddingModel\n",
      "\u001b[1;31mModuleNotFoundError\u001b[0m: No module named 'vertexai'"
     ]
    }
   ],
   "source": [
    "import vertexai\n",
    "from vertexai.language_models import TextEmbeddingInput, TextEmbeddingModel"
   ]
  },
  {
   "cell_type": "code",
   "execution_count": 63,
   "metadata": {},
   "outputs": [
    {
     "name": "stdout",
     "output_type": "stream",
     "text": [
      "Requirement already satisfied: vertexai in c:\\python372x32\\lib\\site-packages (0.0.1)Note: you may need to restart the kernel to use updated packages.\n",
      "\n"
     ]
    },
    {
     "name": "stderr",
     "output_type": "stream",
     "text": [
      "\n",
      "[notice] A new release of pip is available: 23.3.1 -> 23.3.2\n",
      "[notice] To update, run: python.exe -m pip install --upgrade pip\n"
     ]
    }
   ],
   "source": [
    "pip install vertexai"
   ]
  },
  {
   "cell_type": "code",
   "execution_count": 64,
   "metadata": {},
   "outputs": [
    {
     "ename": "ModuleNotFoundError",
     "evalue": "No module named 'vertexai'",
     "output_type": "error",
     "traceback": [
      "\u001b[1;31m---------------------------------------------------------------------------\u001b[0m",
      "\u001b[1;31mModuleNotFoundError\u001b[0m                       Traceback (most recent call last)",
      "Cell \u001b[1;32mIn[64], line 1\u001b[0m\n\u001b[1;32m----> 1\u001b[0m \u001b[38;5;28;01mimport\u001b[39;00m \u001b[38;5;21;01mvertexai\u001b[39;00m\n\u001b[0;32m      2\u001b[0m \u001b[38;5;28;01mfrom\u001b[39;00m \u001b[38;5;21;01mvertexai\u001b[39;00m\u001b[38;5;21;01m.\u001b[39;00m\u001b[38;5;21;01mlanguage_models\u001b[39;00m \u001b[38;5;28;01mimport\u001b[39;00m TextEmbeddingInput, TextEmbeddingModel\n",
      "\u001b[1;31mModuleNotFoundError\u001b[0m: No module named 'vertexai'"
     ]
    }
   ],
   "source": [
    "import vertexai\n",
    "from vertexai.language_models import TextEmbeddingInput, TextEmbeddingModel"
   ]
  },
  {
   "cell_type": "code",
   "execution_count": null,
   "metadata": {},
   "outputs": [],
   "source": []
  }
 ],
 "metadata": {
  "kernelspec": {
   "display_name": "Python 3",
   "language": "python",
   "name": "python3"
  },
  "language_info": {
   "codemirror_mode": {
    "name": "ipython",
    "version": 3
   },
   "file_extension": ".py",
   "mimetype": "text/x-python",
   "name": "python",
   "nbconvert_exporter": "python",
   "pygments_lexer": "ipython3",
   "version": "3.8.0"
  }
 },
 "nbformat": 4,
 "nbformat_minor": 2
}
